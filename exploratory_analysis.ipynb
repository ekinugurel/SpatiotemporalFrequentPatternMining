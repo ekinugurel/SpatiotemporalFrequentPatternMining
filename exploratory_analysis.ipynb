{
 "cells": [
  {
   "cell_type": "markdown",
   "metadata": {},
   "source": [
    "# Summary statistics + exploratory data analysis\n",
    "report:\n",
    "- sample size (by mode/dataset, if needed)\n",
    "- mapping of distribution of origin/destination of trips\n",
    "- time of day distribution\n",
    "- trip distance/travel time distribution\n",
    "- breakdown by mode"
   ]
  },
  {
   "cell_type": "code",
   "execution_count": null,
   "metadata": {},
   "outputs": [],
   "source": []
  },
  {
   "cell_type": "markdown",
   "metadata": {},
   "source": [
    "## some research into mining frequent itemsets using python packages\n",
    "Algorithm: Apriori (or FP growth?)\n",
    "\n",
    "- MLXtend\n",
    "- itemset-mining\n",
    "- apyori\n",
    "- PyCaret\n",
    "- MLlib (FP-growth)-- this is what we used in the colab\n"
   ]
  },
  {
   "cell_type": "markdown",
   "metadata": {},
   "source": []
  }
 ],
 "metadata": {
  "language_info": {
   "name": "python"
  }
 },
 "nbformat": 4,
 "nbformat_minor": 2
}
