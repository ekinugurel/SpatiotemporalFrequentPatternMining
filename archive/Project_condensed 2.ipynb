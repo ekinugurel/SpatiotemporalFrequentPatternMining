{
  "nbformat": 4,
  "nbformat_minor": 0,
  "metadata": {
    "colab": {
      "provenance": [],
      "machine_shape": "hm",
      "gpuType": "V28"
    },
    "kernelspec": {
      "name": "python3",
      "display_name": "Python 3"
    },
    "language_info": {
      "name": "python"
    },
    "accelerator": "TPU"
  },
  "cells": [
    {
      "cell_type": "code",
      "execution_count": 1,
      "metadata": {
        "colab": {
          "base_uri": "https://localhost:8080/"
        },
        "id": "K2t4QB8svfva",
        "outputId": "52ffb874-5646-4f10-8858-6b4acb7e4db4"
      },
      "outputs": [
        {
          "output_type": "stream",
          "name": "stdout",
          "text": [
            "Requirement already satisfied: pyspark in /usr/local/lib/python3.10/dist-packages (3.5.1)\n",
            "Requirement already satisfied: py4j==0.10.9.7 in /usr/local/lib/python3.10/dist-packages (from pyspark) (0.10.9.7)\n",
            "openjdk-8-jdk-headless is already the newest version (8u402-ga-2ubuntu1~22.04).\n",
            "0 upgraded, 0 newly installed, 0 to remove and 0 not upgraded.\n"
          ]
        }
      ],
      "source": [
        "# Install pyspark\n",
        "\n",
        "!pip install pyspark\n",
        "!pip install -U -q PyDrive\n",
        "!apt install openjdk-8-jdk-headless -qq\n",
        "\n",
        "import os\n",
        "os.environ[\"JAVA_HOME\"] = \"/usr/lib/jvm/java-8-openjdk-amd64\""
      ]
    },
    {
      "cell_type": "code",
      "source": [
        "# Import libraries\n",
        "\n",
        "from pyspark.sql import *\n",
        "from pyspark.sql.functions import *\n",
        "from pyspark import SparkContext\n",
        "\n",
        "import pandas as pd\n",
        "import numpy as np\n",
        "import matplotlib.pyplot as plt\n",
        "%matplotlib inline\n",
        "import re\n",
        "import tqdm\n",
        "import psutil\n",
        "import time\n",
        "import math\n",
        "from sklearn.metrics import silhouette_score, silhouette_samples\n",
        "\n",
        "from google.colab import drive"
      ],
      "metadata": {
        "id": "7J87-3VuwCUJ"
      },
      "execution_count": 2,
      "outputs": []
    },
    {
      "cell_type": "code",
      "source": [
        "# Create spark session\n",
        "spark = SparkSession.builder.getOrCreate()\n",
        "\n",
        "# Create spark context\n",
        "sc = spark.sparkContext\n",
        "\n",
        "# Check how much memory is allocated to spark runtime\n",
        "mem_info = psutil.virtual_memory()\n",
        "total_memory_gb = mem_info.total / (1024 * 1024 * 1024)\n",
        "print(\"Total Memory Allocated to Spark Runtime:\", int(total_memory_gb), \"GB\")"
      ],
      "metadata": {
        "colab": {
          "base_uri": "https://localhost:8080/"
        },
        "id": "B9nOu5mgELeo",
        "outputId": "c56b165d-ee1b-4151-e3f7-0df41469bccf"
      },
      "execution_count": 3,
      "outputs": [
        {
          "output_type": "stream",
          "name": "stdout",
          "text": [
            "Total Memory Allocated to Spark Runtime: 334 GB\n"
          ]
        }
      ]
    },
    {
      "cell_type": "code",
      "source": [
        "# Mount google drive\n",
        "drive.mount('/content/drive')"
      ],
      "metadata": {
        "colab": {
          "base_uri": "https://localhost:8080/"
        },
        "id": "v-C9CvnKERzR",
        "outputId": "cd6a93c6-d4f9-4002-9b52-96f7c71720f2"
      },
      "execution_count": 4,
      "outputs": [
        {
          "output_type": "stream",
          "name": "stdout",
          "text": [
            "Drive already mounted at /content/drive; to attempt to forcibly remount, call drive.mount(\"/content/drive\", force_remount=True).\n"
          ]
        }
      ]
    },
    {
      "cell_type": "code",
      "source": [
        "# Load data\n",
        "folder = '/content/drive/MyDrive/Colab Notebooks/cse 547 - PROJECT/'\n",
        "name = '202309-citibike-tripdata_4.csv'\n",
        "path = folder + name\n",
        "\n",
        "sep23_data = spark.read.csv(path, sep = ',', header = True, inferSchema = True)"
      ],
      "metadata": {
        "id": "XclddlclwI5u"
      },
      "execution_count": 5,
      "outputs": []
    },
    {
      "cell_type": "code",
      "source": [
        "# Choose which data-set\n",
        "data = sep23_data\n",
        "\n",
        "# View data\n",
        "print(f\"NUM DATA POINTS = {data.count()}\")\n",
        "data.show()"
      ],
      "metadata": {
        "colab": {
          "base_uri": "https://localhost:8080/"
        },
        "id": "9OSQmp1wwqD-",
        "outputId": "29e0fe58-7ab6-4bce-b8ec-e7ff6544f533"
      },
      "execution_count": 6,
      "outputs": [
        {
          "output_type": "stream",
          "name": "stdout",
          "text": [
            "NUM DATA POINTS = 575162\n",
            "+----------------+-------------+-------------------+-------------------+--------------------+----------------+--------------------+--------------+------------------+------------------+-----------------+------------------+-------------+\n",
            "|         ride_id|rideable_type|         started_at|           ended_at|  start_station_name|start_station_id|    end_station_name|end_station_id|         start_lat|         start_lng|          end_lat|           end_lng|member_casual|\n",
            "+----------------+-------------+-------------------+-------------------+--------------------+----------------+--------------------+--------------+------------------+------------------+-----------------+------------------+-------------+\n",
            "|E7CE7CE80519EB26| classic_bike|2023-09-16 17:15:28|2023-09-16 17:19:00|Halsey St & Ralph...|         4334.02|Broadway & Madiso...|       4483.10|          40.68494|         -73.92299|         40.68822|         -73.91966|       member|\n",
            "|56F4C65B769CF128| classic_bike|2023-09-03 21:45:29|2023-09-03 21:53:33|MacDougal St & Wa...|         5797.01|Allen St & Stanto...|       5484.09|       40.73240447|     -73.998393893|        40.722055|        -73.989111|       member|\n",
            "|693E8E2193F0F51C| classic_bike|2023-09-06 11:59:58|2023-09-06 12:23:02|     5 Ave & E 87 St|         7323.09|Central Park W & ...|       7453.01| 40.78232260730881|-73.95987510681152|40.78866499127884|-73.96680057048798|       casual|\n",
            "|8A972172694A1E84| classic_bike|2023-09-20 09:09:07|2023-09-20 09:14:27| 50 St & Barnett Ave|         6435.03|      34 Ave & 38 St|       6638.01|40.750097682094825|-73.91349703073502|        40.756913|        -73.921631|       member|\n",
            "|97ADF7610A90A21B| classic_bike|2023-09-06 20:34:25|2023-09-06 20:41:56|     5 Ave & E 87 St|         7323.09|Central Park W & ...|       7453.01| 40.78232260730881|-73.95987510681152|40.78866499127884|-73.96680057048798|       member|\n",
            "|266570CBB4406ECB| classic_bike|2023-09-06 21:14:06|2023-09-06 21:36:29|     5 Ave & E 87 St|         7323.09|Central Park W & ...|       7453.01| 40.78232260730881|-73.95987510681152|40.78866499127884|-73.96680057048798|       member|\n",
            "|A82E00EBB6D0D43B| classic_bike|2023-09-16 16:28:47|2023-09-16 16:52:19|     5 Ave & E 87 St|         7323.09|Central Park W & ...|       7453.01| 40.78232260730881|-73.95987510681152|40.78866499127884|-73.96680057048798|       casual|\n",
            "|BDCCF69FB0013E28| classic_bike|2023-09-10 08:18:08|2023-09-10 08:27:51|Sterling Pl & Bed...|         3993.03|Eastern Pkwy & Ro...|       3853.02|      40.672714114|     -73.954153895|         40.66846|          -73.9282|       casual|\n",
            "|28C2F4AF355BC3A2| classic_bike|2023-09-17 15:02:26|2023-09-17 15:21:09|E 53 St & Madison...|         6659.03|Central Park W & ...|       7453.01|        40.7597108|      -73.97402311|40.78866499127884|-73.96680057048798|       casual|\n",
            "|74910114FFE9C9E1| classic_bike|2023-09-16 16:28:12|2023-09-16 17:00:42|     5 Ave & E 87 St|         7323.09|Central Park W & ...|       7453.01| 40.78232260730881|-73.95987510681152|40.78866499127884|-73.96680057048798|       casual|\n",
            "|18D56F1D5C7E64B9| classic_bike|2023-09-06 11:59:38|2023-09-06 12:22:46|     5 Ave & E 87 St|         7323.09|Central Park W & ...|       7453.01| 40.78232260730881|-73.95987510681152|40.78866499127884|-73.96680057048798|       casual|\n",
            "|BDC3F4B82529D7E1| classic_bike|2023-09-03 11:15:00|2023-09-03 11:32:47|Henry St & Degraw St|         4380.08|Carlton Ave & Dea...|       4199.12|        40.6847514|      -73.99917254|       40.6809741|       -73.9710097|       casual|\n",
            "|17DDDBE2BFCE93A0| classic_bike|2023-09-07 18:13:45|2023-09-07 18:45:57|     5 Ave & E 87 St|         7323.09|Allen St & Stanto...|       5484.09|      40.782773376|     -73.959648371|        40.722055|        -73.989111|       member|\n",
            "|5B520B64846E9C92| classic_bike|2023-09-20 13:33:46|2023-09-20 13:44:46|MacDougal St & Wa...|         5797.01|   6 Ave & Broome St|       5610.09|       40.73226398|      -73.99852205|         40.72431|         -74.00473|       member|\n",
            "|1FBFF6C926414520| classic_bike|2023-09-12 08:11:49|2023-09-12 08:21:33|Steinway St & 21 Ave|         7137.04|      34 Ave & 38 St|       6638.01|      40.774868488|     -73.903712511|        40.756913|        -73.921631|       member|\n",
            "|BB2278639E54D4B2| classic_bike|2023-09-06 09:31:05|2023-09-06 09:41:27| Jackson Ave & 46 Rd|         6203.02| Wythe Ave & N 13 St|       5558.04|      40.745221257|     -73.947262883|        40.722767|        -73.957021|       member|\n",
            "|7C0DF557640C855B| classic_bike|2023-09-18 20:10:54|2023-09-18 20:20:18|  E 81 St & Park Ave|         7188.10|Central Park W & ...|       7453.01|       40.77677702|       -73.9590097|40.78866499127884|-73.96680057048798|       member|\n",
            "|8999B2443EF49D1D| classic_bike|2023-09-23 13:55:45|2023-09-23 14:03:33|MacDougal St & Pr...|         5687.04|Allen St & Stanto...|       5484.09|       40.72710258|      -74.00297088|        40.722055|        -73.989111|       member|\n",
            "|F6E345B7AB48EA27| classic_bike|2023-09-19 18:48:15|2023-09-19 18:56:11|Harrison St & Hud...|         5400.05|   6 Ave & Broome St|       5610.09|       40.71870987|       -74.0090009|         40.72431|         -74.00473|       member|\n",
            "|D5C48A8090104F81| classic_bike|2023-09-05 12:57:56|2023-09-05 13:04:24|Madison Ave & E 8...|         7188.13|W 84 St & Amsterd...|       7409.04|      40.778009057|     -73.960907221|         40.78621|          -73.9756|       member|\n",
            "+----------------+-------------+-------------------+-------------------+--------------------+----------------+--------------------+--------------+------------------+------------------+-----------------+------------------+-------------+\n",
            "only showing top 20 rows\n",
            "\n"
          ]
        }
      ]
    },
    {
      "cell_type": "code",
      "source": [
        "# Project only relevant columns\n",
        "projected_data = data.select(\"started_at\", \"ended_at\", \"start_lat\", \"start_lng\",\n",
        "                  \"end_lat\", \"end_lng\")\n",
        "\n",
        "# Select a small sample (first N) of rows\n",
        "N = 1000\n",
        "small_data = projected_data.select(\"*\").limit(N)\n",
        "small_data.show()"
      ],
      "metadata": {
        "colab": {
          "base_uri": "https://localhost:8080/"
        },
        "id": "EGD4OlcUxZUn",
        "outputId": "a596f9b6-4ec8-4dca-f084-27115e359eb1"
      },
      "execution_count": 7,
      "outputs": [
        {
          "output_type": "stream",
          "name": "stdout",
          "text": [
            "+-------------------+-------------------+------------------+------------------+-----------------+------------------+\n",
            "|         started_at|           ended_at|         start_lat|         start_lng|          end_lat|           end_lng|\n",
            "+-------------------+-------------------+------------------+------------------+-----------------+------------------+\n",
            "|2023-09-16 17:15:28|2023-09-16 17:19:00|          40.68494|         -73.92299|         40.68822|         -73.91966|\n",
            "|2023-09-03 21:45:29|2023-09-03 21:53:33|       40.73240447|     -73.998393893|        40.722055|        -73.989111|\n",
            "|2023-09-06 11:59:58|2023-09-06 12:23:02| 40.78232260730881|-73.95987510681152|40.78866499127884|-73.96680057048798|\n",
            "|2023-09-20 09:09:07|2023-09-20 09:14:27|40.750097682094825|-73.91349703073502|        40.756913|        -73.921631|\n",
            "|2023-09-06 20:34:25|2023-09-06 20:41:56| 40.78232260730881|-73.95987510681152|40.78866499127884|-73.96680057048798|\n",
            "|2023-09-06 21:14:06|2023-09-06 21:36:29| 40.78232260730881|-73.95987510681152|40.78866499127884|-73.96680057048798|\n",
            "|2023-09-16 16:28:47|2023-09-16 16:52:19| 40.78232260730881|-73.95987510681152|40.78866499127884|-73.96680057048798|\n",
            "|2023-09-10 08:18:08|2023-09-10 08:27:51|      40.672714114|     -73.954153895|         40.66846|          -73.9282|\n",
            "|2023-09-17 15:02:26|2023-09-17 15:21:09|        40.7597108|      -73.97402311|40.78866499127884|-73.96680057048798|\n",
            "|2023-09-16 16:28:12|2023-09-16 17:00:42| 40.78232260730881|-73.95987510681152|40.78866499127884|-73.96680057048798|\n",
            "|2023-09-06 11:59:38|2023-09-06 12:22:46| 40.78232260730881|-73.95987510681152|40.78866499127884|-73.96680057048798|\n",
            "|2023-09-03 11:15:00|2023-09-03 11:32:47|        40.6847514|      -73.99917254|       40.6809741|       -73.9710097|\n",
            "|2023-09-07 18:13:45|2023-09-07 18:45:57|      40.782773376|     -73.959648371|        40.722055|        -73.989111|\n",
            "|2023-09-20 13:33:46|2023-09-20 13:44:46|       40.73226398|      -73.99852205|         40.72431|         -74.00473|\n",
            "|2023-09-12 08:11:49|2023-09-12 08:21:33|      40.774868488|     -73.903712511|        40.756913|        -73.921631|\n",
            "|2023-09-06 09:31:05|2023-09-06 09:41:27|      40.745221257|     -73.947262883|        40.722767|        -73.957021|\n",
            "|2023-09-18 20:10:54|2023-09-18 20:20:18|       40.77677702|       -73.9590097|40.78866499127884|-73.96680057048798|\n",
            "|2023-09-23 13:55:45|2023-09-23 14:03:33|       40.72710258|      -74.00297088|        40.722055|        -73.989111|\n",
            "|2023-09-19 18:48:15|2023-09-19 18:56:11|       40.71870987|       -74.0090009|         40.72431|         -74.00473|\n",
            "|2023-09-05 12:57:56|2023-09-05 13:04:24|      40.778009057|     -73.960907221|         40.78621|          -73.9756|\n",
            "+-------------------+-------------------+------------------+------------------+-----------------+------------------+\n",
            "only showing top 20 rows\n",
            "\n"
          ]
        }
      ]
    },
    {
      "cell_type": "code",
      "source": [
        "# Function to process start and end times of day into pure seconds\n",
        "\n",
        "def extract_times_to_seconds(rdd):\n",
        "\n",
        "\n",
        "    # Split started_at and ended_at columns into date and time\n",
        "    rdd = rdd.withColumn(\"start_date\", split(col(\"started_at\"), \" \")[0]) \\\n",
        "          .withColumn(\"start_time\", split(col(\"started_at\"), \" \")[1]) \\\n",
        "          .withColumn(\"end_date\", split(col(\"ended_at\"), \" \")[0]) \\\n",
        "          .withColumn(\"end_time\", split(col(\"ended_at\"), \" \")[1])\n",
        "\n",
        "\n",
        "    # Drop the original started_at and ended_at columns\n",
        "    rdd = rdd.drop(\"started_at\", \"ended_at\")\n",
        "\n",
        "\n",
        "    # Split the time strings into hours, minutes, and seconds\n",
        "    rdd = rdd.withColumn(\"start_time_split\", split(col(\"start_time\"), \":\")) \\\n",
        "          .withColumn(\"end_time_split\", split(col(\"end_time\"), \":\"))\n",
        "\n",
        "\n",
        "    # Convert hours, minutes, seconds to seconds\n",
        "    rdd = rdd.withColumn(\"start_seconds\",\n",
        "                      col(\"start_time_split\")[0].cast(\"int\") * 3600 +\n",
        "                      col(\"start_time_split\")[1].cast(\"int\") * 60 +\n",
        "                      col(\"start_time_split\")[2].cast(\"int\")) \\\n",
        "          .withColumn(\"end_seconds\",\n",
        "                      col(\"end_time_split\")[0].cast(\"int\") * 3600 +\n",
        "                      col(\"end_time_split\")[1].cast(\"int\") * 60 +\n",
        "                      col(\"end_time_split\")[2].cast(\"int\"))\n",
        "\n",
        "\n",
        "    # Drop intermediate columns\n",
        "    rdd = rdd.drop(\"start_time_split\", \"end_time_split\")\n",
        "\n",
        "\n",
        "    # Drop all date and time columns EXCEPT for the new 'seconds' columns\n",
        "    rdd = rdd.drop(\"start_date\", \"start_time\", \"end_date\", \"end_time\")\n",
        "\n",
        "\n",
        "    return rdd\n",
        "\n",
        "\n",
        "# Test function\n",
        "test = extract_times_to_seconds(small_data)\n",
        "test.show()"
      ],
      "metadata": {
        "colab": {
          "base_uri": "https://localhost:8080/"
        },
        "id": "pZ7fthaSygWe",
        "outputId": "b4c5c669-6eaf-42d1-a44b-51feccca0e1d"
      },
      "execution_count": 8,
      "outputs": [
        {
          "output_type": "stream",
          "name": "stdout",
          "text": [
            "+------------------+------------------+-----------------+------------------+-------------+-----------+\n",
            "|         start_lat|         start_lng|          end_lat|           end_lng|start_seconds|end_seconds|\n",
            "+------------------+------------------+-----------------+------------------+-------------+-----------+\n",
            "|          40.68494|         -73.92299|         40.68822|         -73.91966|        62128|      62340|\n",
            "|       40.73240447|     -73.998393893|        40.722055|        -73.989111|        78329|      78813|\n",
            "| 40.78232260730881|-73.95987510681152|40.78866499127884|-73.96680057048798|        43198|      44582|\n",
            "|40.750097682094825|-73.91349703073502|        40.756913|        -73.921631|        32947|      33267|\n",
            "| 40.78232260730881|-73.95987510681152|40.78866499127884|-73.96680057048798|        74065|      74516|\n",
            "| 40.78232260730881|-73.95987510681152|40.78866499127884|-73.96680057048798|        76446|      77789|\n",
            "| 40.78232260730881|-73.95987510681152|40.78866499127884|-73.96680057048798|        59327|      60739|\n",
            "|      40.672714114|     -73.954153895|         40.66846|          -73.9282|        29888|      30471|\n",
            "|        40.7597108|      -73.97402311|40.78866499127884|-73.96680057048798|        54146|      55269|\n",
            "| 40.78232260730881|-73.95987510681152|40.78866499127884|-73.96680057048798|        59292|      61242|\n",
            "| 40.78232260730881|-73.95987510681152|40.78866499127884|-73.96680057048798|        43178|      44566|\n",
            "|        40.6847514|      -73.99917254|       40.6809741|       -73.9710097|        40500|      41567|\n",
            "|      40.782773376|     -73.959648371|        40.722055|        -73.989111|        65625|      67557|\n",
            "|       40.73226398|      -73.99852205|         40.72431|         -74.00473|        48826|      49486|\n",
            "|      40.774868488|     -73.903712511|        40.756913|        -73.921631|        29509|      30093|\n",
            "|      40.745221257|     -73.947262883|        40.722767|        -73.957021|        34265|      34887|\n",
            "|       40.77677702|       -73.9590097|40.78866499127884|-73.96680057048798|        72654|      73218|\n",
            "|       40.72710258|      -74.00297088|        40.722055|        -73.989111|        50145|      50613|\n",
            "|       40.71870987|       -74.0090009|         40.72431|         -74.00473|        67695|      68171|\n",
            "|      40.778009057|     -73.960907221|         40.78621|          -73.9756|        46676|      47064|\n",
            "+------------------+------------------+-----------------+------------------+-------------+-----------+\n",
            "only showing top 20 rows\n",
            "\n"
          ]
        }
      ]
    },
    {
      "cell_type": "code",
      "source": [
        "# Function to compute the true distance between two points on Earth's surface\n",
        "\n",
        "def haversine(lat1, lon1, lat2, lon2):\n",
        "\n",
        "\n",
        "    # Convert latitude and longitude from degrees to radians\n",
        "    lat1 = math.radians(lat1)\n",
        "    lon1 = math.radians(lon1)\n",
        "    lat2 = math.radians(lat2)\n",
        "    lon2 = math.radians(lon2)\n",
        "\n",
        "\n",
        "    # Radius of the Earth in kilometers\n",
        "    radius = 6371.0\n",
        "\n",
        "\n",
        "    # Haversine formula\n",
        "    dlon = lon2 - lon1\n",
        "    dlat = lat2 - lat1\n",
        "    a = math.sin(dlat / 2)**2 + math.cos(lat1) * math.cos(lat2) * math.sin(dlon / 2)**2\n",
        "    c = 2 * math.atan2(math.sqrt(a), math.sqrt(1 - a))\n",
        "    distance = radius * c\n",
        "\n",
        "\n",
        "    return distance"
      ],
      "metadata": {
        "id": "UDMhYiAivoCf"
      },
      "execution_count": 9,
      "outputs": []
    },
    {
      "cell_type": "code",
      "source": [
        "# Helper function to find the distance between the starting points of two trips\n",
        "def starts_dist(u, v):\n",
        "\n",
        "    lat1 = u[0]\n",
        "    lon1 = u[1]\n",
        "    lat2 = v[0]\n",
        "    lon2 = v[1]\n",
        "\n",
        "    return haversine(lat1, lon1, lat2, lon2);\n",
        "\n",
        "\n",
        "# Helper function to find the distance between the ending points of two trips\n",
        "def ends_dist(u, v):\n",
        "\n",
        "    lat1 = u[2]\n",
        "    lon1 = u[3]\n",
        "    lat2 = v[2]\n",
        "    lon2 = v[3]\n",
        "\n",
        "    return haversine(lat1, lon1, lat2, lon2);\n",
        "\n",
        "\n",
        "# Function to find the sine of the angle between two vectors\n",
        "# May only use this if we resort to straight-line approximations\n",
        "def sine_vecs(a, b):\n",
        "    return np.abs(np.cross(a, b)) / (np.linalg.norm(a) * np.linalg.norm(b));"
      ],
      "metadata": {
        "id": "ISFNddkJxpdT"
      },
      "execution_count": 10,
      "outputs": []
    },
    {
      "cell_type": "code",
      "source": [
        "##\n",
        "# Function to find the initial bearing from start station to end station\n",
        "#\n",
        "\n",
        "def calculate_initial_bearing(lat1, lon1, lat2, lon2):\n",
        "\n",
        "    lat1 = math.radians(lat1)\n",
        "    lon1 = math.radians(lon1)\n",
        "    lat2 = math.radians(lat2)\n",
        "    lon2 = math.radians(lon2)\n",
        "\n",
        "    dlon = lon2 - lon1\n",
        "\n",
        "    x = math.cos(lat1) * math.sin(lat2) - math.sin(lat1) * math.cos(lat2) * math.cos(dlon)\n",
        "    y = math.sin(dlon) * math.cos(lat2)\n",
        "\n",
        "    initial_bearing = math.atan2(y, x)\n",
        "\n",
        "    initial_bearing = math.degrees(initial_bearing)\n",
        "    compass_bearing = (initial_bearing + 360) % 360\n",
        "\n",
        "    return compass_bearing"
      ],
      "metadata": {
        "id": "M42Ef4Xs15PV"
      },
      "execution_count": 11,
      "outputs": []
    },
    {
      "cell_type": "code",
      "source": [
        "# Function to calculate the absolute value of the sine of the difference in\n",
        "# initial bearings between two trips\n",
        "\n",
        "def sine_bearings(u, v):\n",
        "\n",
        "    u_bearing = calculate_initial_bearing(u[0], u[1], u[2], u[3])\n",
        "    v_bearing = calculate_initial_bearing(v[0], v[1], v[2], v[3])\n",
        "\n",
        "    # Convert to radians\n",
        "    u_bearing = math.radians(u_bearing)\n",
        "    v_bearing = math.radians(v_bearing)\n",
        "\n",
        "    return np.sin(u_bearing - v_bearing)"
      ],
      "metadata": {
        "id": "lsDtDdj42T9F"
      },
      "execution_count": 12,
      "outputs": []
    },
    {
      "cell_type": "code",
      "source": [
        "# Function to calculate the spatial cost between two trips\n",
        "# cost = dist(start1, start2) + dist(end1, end2) + gamma * sin(theta)\n",
        "# where theta is the difference in initial bearings of the two trips\n",
        "\n",
        "def spatial_cost(u, v, gamma):\n",
        "\n",
        "    gamma = gamma # just guessing this hyper-parameter for now\n",
        "                  # 12.65 = 0.5*(length + width) of Manhattan\n",
        "\n",
        "    # Calculate the cost according to the formula\n",
        "    cost = starts_dist(u, v) + ends_dist(u, v) + gamma * np.abs(sine_bearings(u, v))\n",
        "\n",
        "    return cost"
      ],
      "metadata": {
        "id": "W6uFyv1-3q1V"
      },
      "execution_count": 13,
      "outputs": []
    },
    {
      "cell_type": "code",
      "source": [
        "##\n",
        "# K-means algorithm 3\n",
        "#\n",
        "# Now, let's add in space, using the cost formula developed above.\n",
        "# For now, I'm just going to implement a simple average of the latitudes and\n",
        "# longitudes to get the centroids, and not worry about the curvature of the\n",
        "# Earth (though everything else so far accounts for curvature)\n",
        "\n",
        "# Start time will be hard-coded as column index 4 for now\n",
        "\n",
        "def K_means_time_and_space(data, centroids, max_iter, norm, lam, gam):\n",
        "\n",
        "    # The number of seconds in a day (will need later):\n",
        "    s = 24 * 60 * 60\n",
        "\n",
        "    # Already working with arrays, don't need to convert\n",
        "    # #convert data, centroids Spark dataframes to NumPy arrays\n",
        "    data_arr = data #np.array(data.collect())\n",
        "    centroid_arr = centroids #np.array(centroids.collect())\n",
        "\n",
        "    # set the number of iterations for K-means\n",
        "    MAX_ITER = max_iter + 1\n",
        "\n",
        "    # initialize the cost associated with each iteration\n",
        "    costs = np.zeros(MAX_ITER)\n",
        "\n",
        "\n",
        "    # outer-most loop for k-means iterations\n",
        "    for t in np.arange(MAX_ITER):\n",
        "\n",
        "        # will store the index corresponding to the cluster into which each\n",
        "        # point is partitioned\n",
        "        clusters = np.zeros(data_arr.shape[0])\n",
        "\n",
        "        # will store the new centroids computed from each iteration\n",
        "        new_centroids = np.zeros([centroid_arr.shape[0], centroid_arr.shape[1]])\n",
        "\n",
        "        # will store the count of the number of points falling into each\n",
        "        # cluster\n",
        "        point_count = np.zeros([centroid_arr.shape[0], 1])\n",
        "\n",
        "\n",
        "        # loop over each row in the data\n",
        "        for j in np.arange(data_arr.shape[0]):\n",
        "\n",
        "            # will store the custom distance from the current row of the data\n",
        "            # to each centroid\n",
        "            dists = np.zeros(centroid_arr.shape[0])\n",
        "\n",
        "\n",
        "            # loop over each centroid\n",
        "            for i in np.arange(centroid_arr.shape[0]):\n",
        "\n",
        "              # get the current row, centroid pair\n",
        "              x_row = data_arr[j]\n",
        "              c_row = centroid_arr[i]\n",
        "\n",
        "              # start by calculating the time cost\n",
        "              x_start_time = x_row[4]\n",
        "              c_start_time = c_row[4]\n",
        "\n",
        "\n",
        "              # perform the wrap-around, finding the minimum distance in 24-hour\n",
        "              # time\n",
        "              dists[i] = lam * np.min([np.abs(x_start_time - c_start_time),\n",
        "                                 s - np.abs(x_start_time - c_start_time)])\n",
        "\n",
        "\n",
        "              # now add the spatial cost\n",
        "              dists[i] += (1 - lam) * spatial_cost(x_row[:4], c_row[:4], gam)\n",
        "\n",
        "\n",
        "\n",
        "\n",
        "            # determine the (index of the) cluster with the closest centroid\n",
        "            # to x_row\n",
        "            clusters[j] = np.argmin(dists)\n",
        "\n",
        "            # add the current x_row to the row in the array of new centroids\n",
        "            # corresponding to the cluster x_row falls into\n",
        "            new_centroids[int(clusters[j]), :] += x_row\n",
        "            point_count[int(clusters[j])] += 1\n",
        "\n",
        "            # store the cost(s) associated with the current x_row\n",
        "            costs[t] += np.power(dists[int(clusters[j])], norm)\n",
        "\n",
        "        # divide by the number of points in each cluster to obtain the new\n",
        "        # centroids\n",
        "        new_centroids = new_centroids / point_count\n",
        "        centroid_arr = new_centroids\n",
        "\n",
        "\n",
        "    # return the costs, new centroids, and cluster assignments\n",
        "    return costs, new_centroids, clusters;"
      ],
      "metadata": {
        "id": "G2Ublc2c41oD"
      },
      "execution_count": 14,
      "outputs": []
    },
    {
      "cell_type": "code",
      "source": [
        "# ##\n",
        "# # K-means algorithm 4\n",
        "# #\n",
        "# # All spatial calculations are Euclidean approximations\n",
        "\n",
        "\n",
        "# # Start time will be hard-coded as column index 4 for now\n",
        "\n",
        "# def K_means_time_and_space(data_arr, centroid_arr, max_iter, norm, lam, gam):\n",
        "\n",
        "#     # The number of seconds in a day (will need later):\n",
        "#     s = 24 * 60 * 60\n",
        "\n",
        "#     # set the number of iterations for K-means\n",
        "#     MAX_ITER = max_iter + 1\n",
        "\n",
        "#     # initialize the cost associated with each iteration\n",
        "#     costs = np.zeros(MAX_ITER)\n",
        "\n",
        "\n",
        "#     # outer-most loop for k-means iterations\n",
        "#     for t in np.arange(MAX_ITER):\n",
        "\n",
        "#         # will store the index corresponding to the cluster into which each\n",
        "#         # point is partitioned\n",
        "#         clusters = np.zeros(data_arr.shape[0])\n",
        "\n",
        "#         # will store the new centroids computed from each iteration\n",
        "#         new_centroids = np.zeros([centroid_arr.shape[0], centroid_arr.shape[1]])\n",
        "\n",
        "#         # will store the count of the number of points falling into each\n",
        "#         # cluster\n",
        "#         point_count = np.zeros([centroid_arr.shape[0], 1])\n",
        "\n",
        "\n",
        "#         # loop over each row in the data\n",
        "#         for j in np.arange(data_arr.shape[0]):\n",
        "\n",
        "#             # will store the 2-norm distance from the current row of the data\n",
        "#             # to each centroid\n",
        "#             dists = np.zeros(centroid_arr.shape[0])\n",
        "\n",
        "\n",
        "#             # loop over each centroid\n",
        "#             for i in np.arange(centroid_arr.shape[0]):\n",
        "\n",
        "#               # get the current row, centroid pair\n",
        "#               x_row = data_arr[j]\n",
        "#               c_row = centroid_arr[i]\n",
        "\n",
        "#               # start by calculating the time cost\n",
        "#               x_start_time = x_row[4]\n",
        "#               c_start_time = c_row[4]\n",
        "\n",
        "\n",
        "#               # perform the wrap-around, finding the minimum distance in 24-hour\n",
        "#               # time\n",
        "#               dists[i] = lam * np.min([np.abs(x_start_time - c_start_time),\n",
        "#                                  s - np.abs(x_start_time - c_start_time)])\n",
        "\n",
        "\n",
        "#               # now add the spatial cost\n",
        "#               # dists[i] += (1 - lam) * spatial_cost(x_row[:4], c_row[:4], gam)\n",
        "#               spatial_cost = 0\n",
        "#               spatial_cost += np.linalg.norm(x_row[:2] - c_row[:2], 2)\n",
        "#               spatial_cost += np.linalg.norm(x_row[2:4] - c_row[2:4], 2)\n",
        "#               spatial_cost += gam * np.abs(sine_bearings(x_row[:4], c_row[:4]))\n",
        "#               dists[i] += (1 - lam) * spatial_cost\n",
        "#               # print(dists[i])\n",
        "\n",
        "\n",
        "\n",
        "#             # determine the (index of the) cluster with the closest centroid\n",
        "#             # to x_row\n",
        "#             clusters[j] = np.argmin(dists)\n",
        "\n",
        "#             # add the current x_row to the row in the array of new centroids\n",
        "#             # corresponding to the cluster x_row falls into\n",
        "#             new_centroids[int(clusters[j]), :] += x_row\n",
        "#             point_count[int(clusters[j])] += 1\n",
        "\n",
        "#             # store the cost(s) associated with the current x_row\n",
        "#             costs[t] += np.power(dists[int(clusters[j])], norm)\n",
        "\n",
        "#         # divide by the number of points in each cluster to obtain the new\n",
        "#         # centroids\n",
        "#         new_centroids = new_centroids / point_count\n",
        "#         centroid_arr = new_centroids\n",
        "\n",
        "\n",
        "#     # return the costs, new centroids, and cluster assignments\n",
        "#     return costs, new_centroids, clusters;"
      ],
      "metadata": {
        "id": "or9pw0BWPdQR"
      },
      "execution_count": 15,
      "outputs": []
    },
    {
      "cell_type": "code",
      "source": [
        "# Collect working data-set into an array\n",
        "small_time_and_space = extract_times_to_seconds(small_data)\n",
        "small_time_and_space_arr = np.array(small_time_and_space.collect())\n",
        "\n",
        "# Set k, the number of clusters for K-means\n",
        "k = 10\n",
        "lam = 5e-8\n",
        "gam = 12.65 / 3\n",
        "\n",
        "# Pick the first k points as a \"random\" initialization of centroids\n",
        "random_centroids = small_time_and_space_arr[:k]\n",
        "\n",
        "print(small_time_and_space_arr.shape)\n",
        "print(random_centroids.shape)\n",
        "\n",
        "\n",
        "\n",
        "# Run k-means time & space algorithm on small_space_and_time data\n",
        "# lam (a hyper-parameter between 0 and 1) controls how much we weight space\n",
        "# vs. time in our calculation of the cost. The smaller lam is, the more space\n",
        "# is weighted.\n",
        "costs, centroids, clustering = K_means_time_and_space(small_time_and_space_arr,\n",
        "                                                      random_centroids,\n",
        "                                                      max_iter = 20, norm = 2,\n",
        "                                                      lam = lam,\n",
        "                                                      gam = gam)\n",
        "# NOTE: As of now, lam = 1e-1 gives time dominating, and lam = 1e-6 gives space\n",
        "# dominating\n",
        "\n",
        "print(costs[-1])\n",
        "print(centroids) # end times don't have meaning here\n",
        "print(clustering[:20])\n",
        "\n",
        "## Time to run ##\n",
        "\n",
        "# 1,000 points, 100 iterations, 5 clusters = 12 seconds (TPU)"
      ],
      "metadata": {
        "colab": {
          "base_uri": "https://localhost:8080/"
        },
        "id": "0sBu5QdE-vt5",
        "outputId": "7525b264-87a9-45c0-f195-1589d54ddfed"
      },
      "execution_count": 26,
      "outputs": [
        {
          "output_type": "stream",
          "name": "stdout",
          "text": [
            "(1000, 6)\n",
            "(10, 6)\n",
            "26458.676349108773\n",
            "[[ 4.07163685e+01 -7.39498774e+01  4.07152906e+01 -7.39508230e+01\n",
            "   5.28944628e+04  5.34622181e+04]\n",
            " [ 4.07253671e+01 -7.39908341e+01  4.07218080e+01 -7.39918022e+01\n",
            "   5.34238029e+04  5.36768894e+04]\n",
            " [ 4.07826239e+01 -7.39637194e+01  4.07878745e+01 -7.39692240e+01\n",
            "   5.57364310e+04  5.65807414e+04]\n",
            " [ 4.07639214e+01 -7.39106606e+01  4.07598617e+01 -7.39139570e+01\n",
            "   5.14304510e+04  5.20743922e+04]\n",
            " [ 4.07496494e+01 -7.39750717e+01  4.07687015e+01 -7.39540704e+01\n",
            "   5.24543958e+04  5.34688125e+04]\n",
            " [ 4.08080916e+01 -7.39561667e+01  4.07986941e+01 -7.39648049e+01\n",
            "   4.90246197e+04  4.84815070e+04]\n",
            " [ 4.07723647e+01 -7.39471215e+01  4.07716904e+01 -7.39361537e+01\n",
            "   5.98756000e+04  5.64704000e+04]\n",
            " [ 4.06801198e+01 -7.39738784e+01  4.06797431e+01 -7.39677011e+01\n",
            "   5.22942123e+04  5.28861453e+04]\n",
            " [ 4.07634039e+01 -7.39786373e+01  4.07904133e+01 -7.39678325e+01\n",
            "   5.28013259e+04  5.27351111e+04]\n",
            " [ 4.08607321e+01 -7.39127583e+01  4.08570515e+01 -7.39218412e+01\n",
            "   5.66216471e+04  5.77547059e+04]]\n",
            "[0. 1. 2. 3. 2. 2. 2. 7. 8. 2. 2. 7. 1. 1. 3. 0. 2. 1. 1. 2.]\n"
          ]
        }
      ]
    },
    {
      "cell_type": "code",
      "source": [
        "##\n",
        "# Visualization and validation\n",
        "#\n",
        "\n",
        "iterations = np.arange(costs.shape[0])\n",
        "plt.scatter(iterations, costs)\n",
        "plt.title(\"Cost vs. iteration\")\n",
        "plt.show()"
      ],
      "metadata": {
        "colab": {
          "base_uri": "https://localhost:8080/",
          "height": 452
        },
        "id": "9kuMIgStXPW1",
        "outputId": "dfac5b93-77a2-476d-b0bc-fa59accda0dd"
      },
      "execution_count": 27,
      "outputs": [
        {
          "output_type": "display_data",
          "data": {
            "text/plain": [
              "<Figure size 640x480 with 1 Axes>"
            ],
            "image/png": "[encoded data removed]"
          },
          "metadata": {}
        }
      ]
    },
    {
      "cell_type": "code",
      "source": [
        "def custom_distance_metric(x_row, c_row, lam, gam):\n",
        "\n",
        "    dist = 0\n",
        "    s = 24 * 60 * 60\n",
        "\n",
        "    # start by calculating the time cost\n",
        "    x_start_time = x_row[4]\n",
        "    c_start_time = c_row[4]\n",
        "\n",
        "\n",
        "    # perform the wrap-around, finding the minimum distance in 24-hour\n",
        "    # time\n",
        "    dist = lam * np.min([np.abs(x_start_time - c_start_time),\n",
        "                                 s - np.abs(x_start_time - c_start_time)])\n",
        "\n",
        "    # now add the spatial cost\n",
        "    dist += (1 - lam) * spatial_cost(x_row[:4], c_row[:4], gam)\n",
        "\n",
        "    return dist\n",
        "\n",
        "\n",
        "\n",
        "def silhouette_score_custom(X, labels, custom_distance, lam, gam):\n",
        "\n",
        "    n_samples = len(X)\n",
        "    unique_labels = np.unique(labels)\n",
        "    n_clusters = len(unique_labels)\n",
        "\n",
        "    # Initialize silhouette scores\n",
        "    silhouette_scores = np.zeros(n_samples)\n",
        "\n",
        "    # Compute a and b for each sample\n",
        "    for i in range(n_samples):\n",
        "        # Points in the same cluster\n",
        "        same_cluster = (labels == labels[i])\n",
        "        same_cluster[i] = False  # exclude the point itself\n",
        "\n",
        "        # Compute a (mean intra-cluster distance)\n",
        "        a = np.mean([custom_distance(X[i], X[j], lam, gam) for j in range(n_samples) if same_cluster[j]])\n",
        "\n",
        "        # Compute b (mean nearest-cluster distance)\n",
        "        b = np.inf\n",
        "        for label in unique_labels:\n",
        "            if label == labels[i]:\n",
        "                continue\n",
        "            other_cluster = (labels == label)\n",
        "            mean_distance = np.mean([custom_distance(X[i], X[j], lam, gam) for j in range(n_samples) if other_cluster[j]])\n",
        "            if mean_distance < b:\n",
        "                b = mean_distance\n",
        "\n",
        "        # Silhouette score for the sample\n",
        "        silhouette_scores[i] = (b - a) / np.max([a, b])\n",
        "\n",
        "    # Overall silhouette score\n",
        "    overall_silhouette_score = np.mean(silhouette_scores)\n",
        "    return overall_silhouette_score, silhouette_scores\n",
        "\n",
        "\n"
      ],
      "metadata": {
        "colab": {
          "base_uri": "https://localhost:8080/"
        },
        "id": "si1qNXfASvY6",
        "outputId": "48f8b8f4-db99-4ecf-b2c9-c97edf1d2e3c"
      },
      "execution_count": 28,
      "outputs": [
        {
          "output_type": "stream",
          "name": "stdout",
          "text": [
            "Overall Silhouette Score: 0.3701010130315052\n"
          ]
        }
      ]
    },
    {
      "cell_type": "code",
      "source": [
        "# Search for best lambda\n",
        "\n",
        "X = small_time_and_space_arr\n",
        "\n",
        "for i in [-4, -5, -6, -7, -8]:\n",
        "    # Set k, the number of clusters for K-means\n",
        "    k = 10\n",
        "    lam = 5 * 10**i\n",
        "    gam = 12.65 / 3\n",
        "\n",
        "    # Pick the first k points as a \"random\" initialization of centroids\n",
        "    random_centroids = small_time_and_space_arr[:k]\n",
        "\n",
        "\n",
        "    # Run k-means time & space algorithm on small_space_and_time data\n",
        "    # lam (a hyper-parameter between 0 and 1) controls how much we weight space\n",
        "    # vs. time in our calculation of the cost. The smaller lam is, the more space\n",
        "    # is weighted.\n",
        "    costs, centroids, clustering = K_means_time_and_space(small_time_and_space_arr,\n",
        "                                                          random_centroids,\n",
        "                                                          max_iter = 20, norm = 2,\n",
        "                                                          lam = lam,\n",
        "                                                          gam = gam)\n",
        "    # NOTE: As of now, lam = 1e-1 gives time dominating, and lam = 1e-6 gives space\n",
        "    # dominating\n",
        "\n",
        "\n",
        "    overall_score, sample_scores = silhouette_score_custom(X, clustering, custom_distance_metric, lam, gam)\n",
        "    print(f\"Lambda = {lam}  Overall Silhouette Score {overall_score}\")"
      ],
      "metadata": {
        "colab": {
          "base_uri": "https://localhost:8080/"
        },
        "id": "sOSArVjycMlf",
        "outputId": "c7b20f9d-7e61-48cd-abea-0b8eb6d3779d"
      },
      "execution_count": 29,
      "outputs": [
        {
          "output_type": "stream",
          "name": "stdout",
          "text": [
            "Overall Silhouette Score: 0.23525874153976567\n",
            "Overall Silhouette Score: 0.3308899282968448\n",
            "Overall Silhouette Score: 0.35719271834732014\n",
            "Overall Silhouette Score: 0.3751346135051266\n",
            "Overall Silhouette Score: 0.3701010130315052\n"
          ]
        }
      ]
    },
    {
      "cell_type": "code",
      "source": [
        "# Search for best gamma\n",
        "\n",
        "X = small_time_and_space_arr\n",
        "\n",
        "for i in [5, 6, 7, 8, 9]:\n",
        "    # Set k, the number of clusters for K-means\n",
        "    k = 10\n",
        "    lam = 5 * 10**(-7)\n",
        "    gam = 12.65 / i\n",
        "\n",
        "    # Pick the first k points as a \"random\" initialization of centroids\n",
        "    random_centroids = small_time_and_space_arr[:k]\n",
        "\n",
        "\n",
        "    # Run k-means time & space algorithm on small_space_and_time data\n",
        "    # lam (a hyper-parameter between 0 and 1) controls how much we weight space\n",
        "    # vs. time in our calculation of the cost. The smaller lam is, the more space\n",
        "    # is weighted.\n",
        "    costs, centroids, clustering = K_means_time_and_space(small_time_and_space_arr,\n",
        "                                                          random_centroids,\n",
        "                                                          max_iter = 20, norm = 2,\n",
        "                                                          lam = lam,\n",
        "                                                          gam = gam)\n",
        "    # NOTE: As of now, lam = 1e-1 gives time dominating, and lam = 1e-6 gives space\n",
        "    # dominating\n",
        "\n",
        "\n",
        "    overall_score, sample_scores = silhouette_score_custom(X, clustering, custom_distance_metric, lam, gam)\n",
        "    print(f\"Gamma = {gam}  Overall Silhouette Score {overall_score}\")"
      ],
      "metadata": {
        "colab": {
          "base_uri": "https://localhost:8080/"
        },
        "id": "wj23eGF8eLaE",
        "outputId": "243e4662-19f2-4d16-830e-4e3573c6413a"
      },
      "execution_count": 31,
      "outputs": [
        {
          "output_type": "stream",
          "name": "stdout",
          "text": [
            "Gamma = 2.5300000000000002  Overall Silhouette Score 0.3941810027336024\n",
            "Gamma = 2.1083333333333334  Overall Silhouette Score 0.35498864476314235\n",
            "Gamma = 1.8071428571428572  Overall Silhouette Score 0.3765330430968104\n",
            "Gamma = 1.58125  Overall Silhouette Score 0.3902988577447611\n",
            "Gamma = 1.4055555555555557  Overall Silhouette Score 0.3953100606325972\n"
          ]
        }
      ]
    }
  ]
}